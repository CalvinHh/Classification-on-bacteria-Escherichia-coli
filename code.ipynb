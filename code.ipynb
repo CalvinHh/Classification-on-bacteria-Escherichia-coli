{
 "cells": [
  {
   "cell_type": "markdown",
   "id": "baea3344",
   "metadata": {},
   "source": [
    "### To see the data"
   ]
  },
  {
   "cell_type": "code",
   "execution_count": 1,
   "id": "bb5e8352",
   "metadata": {},
   "outputs": [
    {
     "name": "stdout",
     "output_type": "stream",
     "text": [
      "           X1        X2        X3        X4        X5  C\n",
      "0   -0.007564  0.222171  0.158978  1.159728  0.267387  0\n",
      "1    0.171858 -0.041690  0.250635  0.165851  0.461043  0\n",
      "2    0.736046  0.343963  0.749114  0.561858  0.712554  0\n",
      "3    0.000639 -0.175082  0.070584  0.317284  0.582597  0\n",
      "4    0.571760 -0.244216  0.234515  0.902095  0.594026  0\n",
      "..        ...       ...       ...       ...       ... ..\n",
      "124  0.648946  0.946382  0.893618  0.539939  0.532365  1\n",
      "125  0.768015  0.955685  0.495043  0.100583  0.836665  1\n",
      "126  0.649908  0.845137  0.406619  0.654427  1.003261  1\n",
      "127  0.221111  0.787071  0.318218  0.867372  0.682562  1\n",
      "128  0.423381  1.089316  1.486272  0.250884  0.440059  1\n",
      "\n",
      "[129 rows x 6 columns]\n"
     ]
    }
   ],
   "source": [
    "# Import pandas to view the dataset\n",
    "import pandas as pd\n",
    "\n",
    "# Set data to the CSV file\n",
    "file_path = 'ecoli.csv'\n",
    "data = pd.read_csv(file_path)\n",
    "\n",
    "# Displaying the entire DataSet\n",
    "print(data)"
   ]
  },
  {
   "cell_type": "code",
   "execution_count": 2,
   "id": "a8bcfcf3",
   "metadata": {},
   "outputs": [
    {
     "name": "stdout",
     "output_type": "stream",
     "text": [
      "               X1          X2          X3          X4          X5           C\n",
      "count  129.000000  129.000000  129.000000  129.000000  129.000000  129.000000\n",
      "mean     0.539102    0.597149    0.521040    0.686822    0.565779    0.403101\n",
      "std      0.478155    0.433768    0.378367    0.438045    0.412171    0.492433\n",
      "min     -0.430791   -0.281866   -0.263064   -0.600203   -0.484916    0.000000\n",
      "25%      0.180917    0.284631    0.250635    0.416989    0.267387    0.000000\n",
      "50%      0.559401    0.535186    0.495043    0.716888    0.568919    0.000000\n",
      "75%      0.826496    0.864219    0.793372    0.962953    0.836665    1.000000\n",
      "max      2.044694    1.711213    1.486272    1.743930    1.848438    1.000000\n"
     ]
    }
   ],
   "source": [
    "# Data descriptions\n",
    "print(data.describe())"
   ]
  },
  {
   "cell_type": "markdown",
   "id": "4bed2e00",
   "metadata": {},
   "source": [
    "In this case the futures of data has a normal distribution, and the classifier are only 0 in the inner membrane or 1 in the perisplasm so Gaussian Naïve Bayes model would be a good fit."
   ]
  },
  {
   "cell_type": "markdown",
   "id": "d0d234e5",
   "metadata": {},
   "source": [
    "# Application of Gaussian Naïve Bayes"
   ]
  },
  {
   "cell_type": "markdown",
   "id": "35136ead",
   "metadata": {},
   "source": [
    "### Data cleaning"
   ]
  },
  {
   "cell_type": "code",
   "execution_count": 3,
   "id": "11cae9cc",
   "metadata": {
    "scrolled": true
   },
   "outputs": [
    {
     "data": {
      "text/plain": [
       "{'Missing Values': X1    0\n",
       " X2    0\n",
       " X3    0\n",
       " X4    0\n",
       " X5    0\n",
       " C     0\n",
       " dtype: int64,\n",
       " 'Duplicate Rows': 0,\n",
       " 'Outliers (IQR Method)': X1    1\n",
       " X2    0\n",
       " X3    0\n",
       " X4    4\n",
       " X5    1\n",
       " C     0\n",
       " dtype: int64,\n",
       " 'Data Types': X1    float64\n",
       " X2    float64\n",
       " X3    float64\n",
       " X4    float64\n",
       " X5    float64\n",
       " C       int64\n",
       " dtype: object,\n",
       " 'Class Balance': 0    0.596899\n",
       " 1    0.403101\n",
       " Name: C, dtype: float64}"
      ]
     },
     "execution_count": 3,
     "metadata": {},
     "output_type": "execute_result"
    }
   ],
   "source": [
    "# Data Cleaning Checks\n",
    "# Check for missing values\n",
    "missing_values = data.isnull().sum()\n",
    "\n",
    "# Check for duplicate rows\n",
    "duplicate_rows = data.duplicated().sum()\n",
    "\n",
    "# Check for outliers with interquartile range\n",
    "Q1 = data.quantile(0.25)\n",
    "Q3 = data.quantile(0.75)\n",
    "# Define IQR and outliers\n",
    "IQR = Q3 - Q1\n",
    "outliers = ((data < (Q1 - 1.5 * IQR)) | (data > (Q3 + 1.5 * IQR))).sum()\n",
    "\n",
    "# Check data types\n",
    "data_types = data.dtypes\n",
    "\n",
    "# Check for class balance\n",
    "class_balance = data['C'].value_counts(normalize=True)\n",
    "\n",
    "# Show the results\n",
    "cleaning_checks = {\n",
    "    'Missing Values': missing_values,\n",
    "    'Duplicate Rows': duplicate_rows,\n",
    "    'Outliers (IQR Method)': outliers,\n",
    "    'Data Types': data_types,\n",
    "    'Class Balance': class_balance\n",
    "}\n",
    "\n",
    "cleaning_checks"
   ]
  },
  {
   "cell_type": "markdown",
   "id": "e19d4b38",
   "metadata": {},
   "source": [
    "The data looks pretty clean however it's a bit imbalanced and there's outliers in x1, x4 and x5. "
   ]
  },
  {
   "cell_type": "markdown",
   "id": "293c95e6",
   "metadata": {},
   "source": [
    "### Data splitting"
   ]
  },
  {
   "cell_type": "code",
   "execution_count": 4,
   "id": "ddc45e05",
   "metadata": {},
   "outputs": [
    {
     "data": {
      "text/plain": [
       "((123, 6), (148, 5), (148,), (103, 5), (45, 5), (103,), (45,))"
      ]
     },
     "execution_count": 4,
     "metadata": {},
     "output_type": "execute_result"
    }
   ],
   "source": [
    "# To Standardising the features\n",
    "from sklearn.preprocessing import StandardScaler\n",
    "# Use SMOTE to blance the data\n",
    "from imblearn.over_sampling import SMOTE\n",
    "# Split data into train and test datasets\n",
    "from sklearn.model_selection import train_test_split\n",
    "\n",
    "# Calculate Q1, Q3, and IQR\n",
    "Q1 = data.quantile(0.25)\n",
    "Q3 = data.quantile(0.75)\n",
    "IQR = Q3 - Q1\n",
    "\n",
    "# Set bounds for outliers\n",
    "lower_bound = Q1 - 1.5 * IQR\n",
    "upper_bound = Q3 + 1.5 * IQR\n",
    "\n",
    "# Create a mask for rows without outliers\n",
    "mask = ((data >= lower_bound) & (data <= upper_bound))\n",
    "\n",
    "# Apply the mask and keep rows without outliers\n",
    "data_cleaned = data[mask].dropna()\n",
    "\n",
    "# Scaling the features\n",
    "scaler = StandardScaler()\n",
    "# Excluing column C for X\n",
    "X_scaled = scaler.fit_transform(data_cleaned.drop('C', axis=1))\n",
    "y = data_cleaned['C']\n",
    "\n",
    "# Apply SMOTE to blance the data\n",
    "smote = SMOTE(random_state=42)\n",
    "X_smote, y_smote = smote.fit_resample(X_scaled, y)\n",
    "\n",
    "# Split the dataset into training and testing sets by 70:30, set the same split\n",
    "X_train, X_test, y_train, y_test = train_test_split(X_smote, y_smote, test_size=0.3, random_state=42)\n",
    "\n",
    "# Show the numbers\n",
    "data_cleaned.shape, X_smote.shape, y_smote.shape, X_train.shape, X_test.shape, y_train.shape, y_test.shape"
   ]
  },
  {
   "cell_type": "markdown",
   "id": "21bdcdf9",
   "metadata": {},
   "source": [
    "SMOTE generated new samples to blance the data."
   ]
  },
  {
   "cell_type": "markdown",
   "id": "613e78ec",
   "metadata": {},
   "source": [
    "### Train Gaussian Naïve Bayes model with training data"
   ]
  },
  {
   "cell_type": "code",
   "execution_count": 5,
   "id": "be186f75",
   "metadata": {},
   "outputs": [
    {
     "data": {
      "text/plain": [
       "(GaussianNB(),\n",
       " array([1, 1, 0, 0, 1, 0, 1, 0, 1, 0, 0, 0, 1, 0, 1, 1, 0, 0, 1, 0, 0, 1,\n",
       "        1, 1, 0, 0, 0, 1, 1, 0, 1, 0, 1, 0, 0, 1, 1, 0, 0, 1, 0, 1, 1, 1,\n",
       "        0], dtype=int64))"
      ]
     },
     "execution_count": 5,
     "metadata": {},
     "output_type": "execute_result"
    }
   ],
   "source": [
    "# Gaussian Naïve Bayes from sklearn\n",
    "from sklearn.naive_bayes import GaussianNB\n",
    "\n",
    "# Name Gaussian Naïve Bayes classifier\n",
    "nbclassifier = GaussianNB()\n",
    "\n",
    "# Train the model using the training sets\n",
    "nbclassifier.fit(X_train, y_train)\n",
    "\n",
    "# Make predictions\n",
    "y_pred_nb = nbclassifier.predict(X_test)\n",
    "\n",
    "# Returning the classifier and predictions\n",
    "nbclassifier, y_pred_nb"
   ]
  },
  {
   "cell_type": "markdown",
   "id": "c17393bb",
   "metadata": {},
   "source": [
    "# Explanation of Naïve Bayes"
   ]
  },
  {
   "cell_type": "markdown",
   "id": "61a2b82d",
   "metadata": {},
   "source": [
    "Giving the equation of Bayes' Theorem and this dataset: $$ P(C | X) = \\frac{P(X | C) \\times P(C)}{P(X)} $$\n",
    "'C' can be seen as a category(in the inner membrane or in the perisplasm in this dataset), 'X' as the Features(X1 to X5). Giving a new protein with features x1 to x5. P(C|X) is the probability of this new protein(X) is in the inner membrane(C) equal to the probability of observing those features x1 to x5 of this protein in the inner membrane P(X|C) times the initial probability(in this dataset) of how many protein was in the inner membrane P(C) divided by the probability of observing features of this new protein in general P(X).\n",
    "\n",
    "In the dataset, there is more than one feature and Naïve considers them as independent so P(C|X) will be a combination of $$ P(X | C) = P(X_1 | C) \\times P(X_2 | C) \\times P(X_3 | C) \\times P(X_4 | C)\\times P(X_5 | C) $$ using the Gaussian probability density function.\n",
    "\n",
    "After getting the number, the system will calculate the probability of this new protein is in the perisplasm again. Comparing the two probabilities, the new protein is predicted in the higher probability class."
   ]
  },
  {
   "cell_type": "markdown",
   "id": "bba8ecbd",
   "metadata": {},
   "source": [
    "# Application of a Logistic Regression"
   ]
  },
  {
   "cell_type": "code",
   "execution_count": 6,
   "id": "47ad005c",
   "metadata": {
    "scrolled": true
   },
   "outputs": [
    {
     "data": {
      "text/plain": [
       "(LogisticRegression(),\n",
       " array([0, 1, 0, 0, 1, 1, 1, 0, 1, 0, 0, 0, 1, 0, 1, 1, 0, 0, 1, 1, 0, 1,\n",
       "        0, 1, 0, 0, 0, 1, 1, 0, 1, 0, 1, 0, 0, 1, 1, 0, 0, 1, 0, 0, 1, 1,\n",
       "        0], dtype=int64))"
      ]
     },
     "execution_count": 6,
     "metadata": {},
     "output_type": "execute_result"
    }
   ],
   "source": [
    "# Logistic regression from sklearn\n",
    "from sklearn.linear_model import LogisticRegression\n",
    "\n",
    "# Name Logistic regression classifier\n",
    "lrclassifier = LogisticRegression()\n",
    "\n",
    "# Train the model using the training data sets\n",
    "lrclassifier.fit(X_train, y_train)\n",
    "\n",
    "# Make predictions\n",
    "y_pred_lr = lrclassifier.predict(X_test)\n",
    "\n",
    "# Returning the classifier and predictions\n",
    "lrclassifier, y_pred_lr"
   ]
  },
  {
   "cell_type": "markdown",
   "id": "df0f33f4",
   "metadata": {},
   "source": [
    "# Explanation of Logistic Regression"
   ]
  },
  {
   "cell_type": "markdown",
   "id": "55ebaf9b",
   "metadata": {},
   "source": [
    "For logistic regression, the probability of P(C|X) (the location of the protein) with features X1 to X5 can be seen as a sigmoid function:\n",
    "$$ P(C | X) = \\frac{1}{1 + e^{-(\\beta_0 + \\beta_1 X_1 + \\beta_2 X_2 + \\beta_3 X_3 + \\beta_4 X_4 + \\beta_5 X_5)}} $$\n",
    "This S-shaped curve is between 0 and 1. Beta 0 to 5 are the model's coefficients learned from the training data.\n",
    "\n",
    "A threshold can be set, usually will be 0.5. With a new set of futures X1 to X5, if P(C|X) is greater than the threshold the protein is predicted to be in the one class. Otherwise, it is predicted to be in the zero class."
   ]
  },
  {
   "cell_type": "markdown",
   "id": "4c2b3fc0",
   "metadata": {},
   "source": [
    "# Validating the performance for both methods"
   ]
  },
  {
   "cell_type": "markdown",
   "id": "d63db9dd",
   "metadata": {},
   "source": [
    "Apply of Cross-Validation on Gaussian Naïve Bayes and Logistic Regression."
   ]
  },
  {
   "cell_type": "code",
   "execution_count": 7,
   "id": "7e66af17",
   "metadata": {},
   "outputs": [],
   "source": [
    "# Create X, y full data\n",
    "X_full = data.drop('C', axis=1)\n",
    "y_full = data['C']"
   ]
  },
  {
   "cell_type": "code",
   "execution_count": 8,
   "id": "68078de0",
   "metadata": {},
   "outputs": [],
   "source": [
    "# Cross-Validation from sklearn\n",
    "from sklearn.model_selection import cross_val_score\n",
    "\n",
    "# Accuracy scores with 5-folds\n",
    "accuracy_scores_nb = cross_val_score(nbclassifier, X_full, y_full, cv=5, scoring='accuracy')\n",
    "accuracy_scores_lr = cross_val_score(lrclassifier, X_full, y_full, cv=5, scoring='accuracy')\n",
    "\n",
    "# Calculate mean and standard deviation for each model\n",
    "mean_accuracy_nb = accuracy_scores_nb.mean()\n",
    "std_accuracy_nb = accuracy_scores_nb.std()\n",
    "mean_accuracy_lr = accuracy_scores_lr.mean()\n",
    "std_accuracy_lr = accuracy_scores_lr.std()"
   ]
  },
  {
   "cell_type": "code",
   "execution_count": 9,
   "id": "02b8bf30",
   "metadata": {},
   "outputs": [
    {
     "name": "stdout",
     "output_type": "stream",
     "text": [
      "Naive Bayes Cross-Validation Results:\n",
      "Mean Accuracy: 0.71\n",
      "Standard Deviation: 0.06\n",
      "\n",
      "Logistic Regression Cross-Validation Results:\n",
      "Mean Accuracy: 0.73\n",
      "Standard Deviation: 0.07\n"
     ]
    }
   ],
   "source": [
    "# Printout the results in 2 decimal places\n",
    "print(\"Naive Bayes Cross-Validation Results:\")\n",
    "print(f\"Mean Accuracy: {mean_accuracy_nb:.2f}\")\n",
    "print(f\"Standard Deviation: {std_accuracy_nb:.2f}\\n\")\n",
    "\n",
    "print(\"Logistic Regression Cross-Validation Results:\")\n",
    "print(f\"Mean Accuracy: {mean_accuracy_lr:.2f}\")\n",
    "print(f\"Standard Deviation: {std_accuracy_lr:.2f}\")"
   ]
  },
  {
   "cell_type": "markdown",
   "id": "1bf92399",
   "metadata": {},
   "source": [
    "Apply of holdout method on Gaussian Naïve Bayes"
   ]
  },
  {
   "cell_type": "code",
   "execution_count": 10,
   "id": "111baa54",
   "metadata": {},
   "outputs": [
    {
     "name": "stdout",
     "output_type": "stream",
     "text": [
      "Accuracy: 0.8444444444444444\n"
     ]
    }
   ],
   "source": [
    "from sklearn.metrics import accuracy_score\n",
    "X_Htrain, X_Htest, y_Htrain, y_Htest = train_test_split(X_smote, y_smote, test_size=0.3, random_state=42)\n",
    "\n",
    "# Train the model using the training sets\n",
    "nbclassifier.fit(X_Htrain, y_Htrain)\n",
    "\n",
    "# Make new predictions\n",
    "y_Hpred_nb = nbclassifier.predict(X_Htest)\n",
    "\n",
    "accuracy = accuracy_score(y_Htest, y_Hpred_nb)\n",
    "print(f\"Accuracy: {accuracy}\")"
   ]
  },
  {
   "cell_type": "markdown",
   "id": "814a88eb",
   "metadata": {},
   "source": [
    "Gaussian Naïve Bayes works the best when using 70% random data of the full dataset as training data."
   ]
  },
  {
   "cell_type": "markdown",
   "id": "22724f4b",
   "metadata": {},
   "source": [
    "Apply of holdout method on Logistic Regression"
   ]
  },
  {
   "cell_type": "code",
   "execution_count": 11,
   "id": "1e61b1ab",
   "metadata": {},
   "outputs": [
    {
     "name": "stdout",
     "output_type": "stream",
     "text": [
      "Accuracy: 0.8166666666666667\n"
     ]
    }
   ],
   "source": [
    "X_Htrain, X_Htest, y_Htrain, y_Htest = train_test_split(X_smote, y_smote, test_size=0.4, random_state=42)\n",
    "\n",
    "# Train the model using the training sets\n",
    "lrclassifier.fit(X_Htrain, y_Htrain)\n",
    "\n",
    "# Make new predictions\n",
    "y_Hpred_lr = lrclassifier.predict(X_Htest)\n",
    "\n",
    "accuracy = accuracy_score(y_Htest, y_Hpred_lr)\n",
    "print(f\"Accuracy: {accuracy}\")"
   ]
  },
  {
   "cell_type": "markdown",
   "id": "93c55c03",
   "metadata": {},
   "source": [
    "Logistic Regression works the best when using 60% random data of the full dataset as training data."
   ]
  },
  {
   "cell_type": "markdown",
   "id": "2faa9fd2",
   "metadata": {},
   "source": [
    "# Metrics to measure performance"
   ]
  },
  {
   "cell_type": "markdown",
   "id": "decfd69f",
   "metadata": {},
   "source": [
    "### Test results and Confusion Matrix for Naïve Bayes"
   ]
  },
  {
   "cell_type": "code",
   "execution_count": 12,
   "id": "a61a3b2f",
   "metadata": {},
   "outputs": [
    {
     "name": "stdout",
     "output_type": "stream",
     "text": [
      "The Confusin Matrix for Naïve Bayes :\n",
      " [[20  4]\n",
      " [ 3 18]]\n",
      "True Positives(TP) :  20\n",
      "True Negatives(TN) :  18\n",
      "False Positives(FP) :  4\n",
      "False Negatives(FN) :  3\n"
     ]
    }
   ],
   "source": [
    "from sklearn.metrics import confusion_matrix\n",
    "\n",
    "cm_nb = confusion_matrix(y_test, y_pred_nb)\n",
    "\n",
    "# Print the confusion matrix for Naïve Bayes\n",
    "print(\"The Confusin Matrix for Naïve Bayes :\\n\",cm_nb)\n",
    "print(\"True Positives(TP) : \",cm_nb[0,0])\n",
    "print(\"True Negatives(TN) : \",cm_nb[1,1])\n",
    "print(\"False Positives(FP) : \",cm_nb[0,1])\n",
    "print(\"False Negatives(FN) : \",cm_nb[1,0])"
   ]
  },
  {
   "cell_type": "code",
   "execution_count": 13,
   "id": "6252ac98",
   "metadata": {},
   "outputs": [
    {
     "name": "stdout",
     "output_type": "stream",
     "text": [
      "              precision    recall  f1-score   support\n",
      "\n",
      "           0       0.87      0.83      0.85        24\n",
      "           1       0.82      0.86      0.84        21\n",
      "\n",
      "    accuracy                           0.84        45\n",
      "   macro avg       0.84      0.85      0.84        45\n",
      "weighted avg       0.85      0.84      0.84        45\n",
      "\n"
     ]
    }
   ],
   "source": [
    "# Measuring the records\n",
    "from sklearn.metrics import classification_report\n",
    "\n",
    "# Print report message for Naïve Bayes\n",
    "print(classification_report(y_test, y_pred_nb))"
   ]
  },
  {
   "cell_type": "markdown",
   "id": "0b54fc10",
   "metadata": {},
   "source": [
    "### Test results and Confusion Matrix for Logistic Regression"
   ]
  },
  {
   "cell_type": "code",
   "execution_count": 14,
   "id": "2b93f5e2",
   "metadata": {},
   "outputs": [
    {
     "name": "stdout",
     "output_type": "stream",
     "text": [
      "The Confusin Matrix for Logistic Regression :\n",
      " [[19  5]\n",
      " [ 5 16]]\n",
      "True Positives(TP) :  19\n",
      "True Negatives(TN) :  16\n",
      "False Positives(FP) :  5\n",
      "False Negatives(FN) :  5\n"
     ]
    }
   ],
   "source": [
    "cm_lr = confusion_matrix(y_test, y_pred_lr)\n",
    "\n",
    "# Print the confusion matrix for Logistic Regression\n",
    "print(\"The Confusin Matrix for Logistic Regression :\\n\",cm_lr)\n",
    "print(\"True Positives(TP) : \",cm_lr[0,0])\n",
    "print(\"True Negatives(TN) : \",cm_lr[1,1])\n",
    "print(\"False Positives(FP) : \",cm_lr[0,1])\n",
    "print(\"False Negatives(FN) : \",cm_lr[1,0])"
   ]
  },
  {
   "cell_type": "code",
   "execution_count": 15,
   "id": "55f5b3fd",
   "metadata": {},
   "outputs": [
    {
     "name": "stdout",
     "output_type": "stream",
     "text": [
      "              precision    recall  f1-score   support\n",
      "\n",
      "           0       0.79      0.79      0.79        24\n",
      "           1       0.76      0.76      0.76        21\n",
      "\n",
      "    accuracy                           0.78        45\n",
      "   macro avg       0.78      0.78      0.78        45\n",
      "weighted avg       0.78      0.78      0.78        45\n",
      "\n"
     ]
    }
   ],
   "source": [
    "# Print report message for Logistic Regression\n",
    "print(classification_report(y_test, y_pred_lr))"
   ]
  },
  {
   "cell_type": "markdown",
   "id": "634b6306",
   "metadata": {},
   "source": [
    "# Metrics Used"
   ]
  },
  {
   "cell_type": "markdown",
   "id": "8e608d69",
   "metadata": {},
   "source": [
    "The classification_report function from sklearn provides 4 metrics: precision, recall, f1-score and support."
   ]
  },
  {
   "cell_type": "markdown",
   "id": "b44d621d",
   "metadata": {},
   "source": [
    "Precision: $$ Precision = \\frac{True Positives}{True Positives + False Positives} $$ It tells the proportion of predicted positives that are actually positive."
   ]
  },
  {
   "cell_type": "markdown",
   "id": "7113b7d4",
   "metadata": {},
   "source": [
    "Recall: $$ Recall = \\frac{True Positives}{True Positives + False Negatives} $$ Tells the proportion of actual positives that were predicted correctly."
   ]
  },
  {
   "cell_type": "markdown",
   "id": "505e232d",
   "metadata": {},
   "source": [
    "F1-score: $$ F1-Score = \\frac{2}{\\frac{1}{Precision} + \\frac{1}{Recall}} $$\n",
    "F1 Score is the harmonic mean of Precision and Recall, high F1 Score gives a balanced Precision and Recall."
   ]
  },
  {
   "cell_type": "markdown",
   "id": "0bce6906",
   "metadata": {},
   "source": [
    "Support: Tells how many instances (0 and 1) are there. Important to see if the model performance is imbalanced."
   ]
  },
  {
   "cell_type": "markdown",
   "id": "4fc75877",
   "metadata": {},
   "source": [
    "# Conclusions from the result"
   ]
  },
  {
   "attachments": {
    "Capture1.PNG": {
     "image/png": "[encoded data removed]"
    }
   },
   "cell_type": "markdown",
   "id": "58e9fb15",
   "metadata": {},
   "source": [
    "![Capture1.PNG](attachment:Capture1.PNG)"
   ]
  },
  {
   "attachments": {
    "Capture2.PNG": {
     "image/png": "[encoded data removed]"
    }
   },
   "cell_type": "markdown",
   "id": "b0623a82",
   "metadata": {},
   "source": [
    "![Capture2.PNG](attachment:Capture2.PNG)"
   ]
  },
  {
   "cell_type": "markdown",
   "id": "443824f7",
   "metadata": {},
   "source": [
    "Before applying SMOTE to balance the classes, both models have the same accuracy of 76% on this train and test data, which means both models should have a similar efficiency in making predictions. Naïve Bayes has a precision of 73% for class 0 and 86% for class 1 (better than Logistic Regression 78%). However, Logistic Regression has a more balanced precision. Naïve Bayes has a higher recall for identifying class 0, and Logistic Regression is better at identifying class 1. Logistic Regression has a better balance between precision and recall for class 1 as a higher F1-Score. Moreover, the Naïve Bayes module has slightly higher False Negatives.\n",
    "\n",
    "However, the metrics show that recall and F1-Score are much lower for class 1, this could be a result of imbalanced data. The test results shown under the 'Test results and Confusion Matrix for Logistic Regression' session are after applying SMOTE. The accuracy for Gaussian Naïve Bayes increased sufficiently and reached over 80%. At the same time, Logistic Regression only increased accuracy by 2% and worked slightly better to predict true Negatives.\n",
    "\n",
    "In conclusion, Gaussian Naïve Bayes works better with a more balanced dataset. From the holdout method, the Accuracy Score is the highest using 70% data of the full dataset. On the other hand, Logistic Regression requires less condition and data cleaning and is more accurate with 60% training sample. From Cross-Validation the Logistic Regression model is slightly more accurate on average than the Naïve Bayes model for this dataset."
   ]
  },
  {
   "cell_type": "code",
   "execution_count": 16,
   "id": "a0644e2f",
   "metadata": {},
   "outputs": [
    {
     "name": "stdout",
     "output_type": "stream",
     "text": [
      "Feature importances for Logistic Regression:\n",
      "X 1: 0.061101948950758406\n",
      "X 2: 0.6590061912710777\n",
      "X 3: -0.04047612335816382\n",
      "X 4: -0.6840794087167301\n",
      "X 5: -0.7438392935319456\n"
     ]
    }
   ],
   "source": [
    "# Logistic Regression future importance array\n",
    "feature_importance_lr = lrclassifier.coef_[0]\n",
    "\n",
    "print(\"Feature importances for Logistic Regression:\")\n",
    "# Iterate over the array of feature importances\n",
    "for i, coef in enumerate(feature_importance_lr):\n",
    "    print(f\"X {i+1}: {coef}\") #X+1 to show right number"
   ]
  },
  {
   "cell_type": "markdown",
   "id": "da8db855",
   "metadata": {},
   "source": [
    "Extra thought: why the Logistic Regression model does not improve after balancing the data might be because, unlike Gaussian Naïve Bayes assumes independence between features. It is a linear model with coefficients, so dropping the column with less weight like X3 should improve the performance for Logistic Regression. As the overall performance is already even between the two models, no future action will be taken this time."
   ]
  },
  {
   "cell_type": "markdown",
   "id": "fc3677a8",
   "metadata": {},
   "source": [
    "# Visualisation in validating the methods"
   ]
  },
  {
   "cell_type": "markdown",
   "id": "ad6163be",
   "metadata": {},
   "source": [
    "Plot the confusion matrix for Naïve Bayes"
   ]
  },
  {
   "cell_type": "code",
   "execution_count": 17,
   "id": "69980d40",
   "metadata": {},
   "outputs": [
    {
     "data": {
      "text/plain": [
       "<Axes: title={'center': 'Naïve Bayes Confusion Matrix'}>"
      ]
     },
     "execution_count": 17,
     "metadata": {},
     "output_type": "execute_result"
    },
    {
     "data": {
      "image/png": "[encoded data removed]",
      "text/plain": [
       "<Figure size 640x480 with 2 Axes>"
      ]
     },
     "metadata": {},
     "output_type": "display_data"
    }
   ],
   "source": [
    "import matplotlib.pyplot as plt\n",
    "# Confusion matrix\n",
    "cm_matrix = pd.DataFrame(data=cm_nb, columns=['Actual Positives', 'Actual Negatives'],\n",
    "                         index = ['Predicted Positives', 'Predicted Negatives'])\n",
    "plt.title('Naïve Bayes Confusion Matrix')\n",
    "# Using heatmap\n",
    "import seaborn as sns\n",
    "sns.heatmap(cm_matrix, annot=True, fmt='.2f')"
   ]
  },
  {
   "cell_type": "markdown",
   "id": "2a3c4cdf",
   "metadata": {},
   "source": [
    "Plot the Receiver Operating Curve (ROC) for Naïve Bayes"
   ]
  },
  {
   "cell_type": "code",
   "execution_count": 18,
   "id": "1027fd74",
   "metadata": {},
   "outputs": [
    {
     "data": {
      "image/png": "[encoded data removed]",
      "text/plain": [
       "<Figure size 640x480 with 1 Axes>"
      ]
     },
     "metadata": {},
     "output_type": "display_data"
    }
   ],
   "source": [
    "from sklearn.metrics import roc_curve, auc\n",
    "# Probability scores for positive class\n",
    "fpr, tpr, thresholds = roc_curve(y_test, nbclassifier.predict_proba(X_test)[:,1])\n",
    "# Calculates area under the curve and plot\n",
    "roc_auc = auc(fpr, tpr)\n",
    "plt.plot(fpr, tpr, label=f'ROC curve (area = {roc_auc:.2f})')\n",
    "# Add reference Line and plot\n",
    "plt.plot([0, 1], [0, 1], linestyle='--')\n",
    "plt.xlabel('False Positive Rate')\n",
    "plt.ylabel('True Positive Rate')\n",
    "plt.title('Naïve Bayes ROC Curve')\n",
    "plt.legend(loc=\"lower right\")\n",
    "plt.show()"
   ]
  },
  {
   "cell_type": "markdown",
   "id": "51675ac7",
   "metadata": {},
   "source": [
    "Plot the confusion matrix for Logistic Regression"
   ]
  },
  {
   "cell_type": "code",
   "execution_count": 19,
   "id": "6ea93ecb",
   "metadata": {},
   "outputs": [
    {
     "data": {
      "text/plain": [
       "<Axes: title={'center': 'Logistic Regression Confusion Matrix'}>"
      ]
     },
     "execution_count": 19,
     "metadata": {},
     "output_type": "execute_result"
    },
    {
     "data": {
      "image/png": "[encoded data removed]",
      "text/plain": [
       "<Figure size 640x480 with 2 Axes>"
      ]
     },
     "metadata": {},
     "output_type": "display_data"
    }
   ],
   "source": [
    "# Confusion matrix\n",
    "cm_matrix = pd.DataFrame(data=cm_lr, columns=['Actual Positives', 'Actual Negatives'],\n",
    "                         index = ['Predicted Positives', 'Predicted Negatives'])\n",
    "plt.title('Logistic Regression Confusion Matrix')\n",
    "# Using heatmap\n",
    "sns.heatmap(cm_matrix, annot=True, fmt='.2f')"
   ]
  },
  {
   "cell_type": "markdown",
   "id": "6fa247d1",
   "metadata": {},
   "source": [
    "Plot the Receiver Operating Curve (ROC) for Logistic Regression"
   ]
  },
  {
   "cell_type": "code",
   "execution_count": 20,
   "id": "7dbbcaa9",
   "metadata": {},
   "outputs": [
    {
     "data": {
      "image/png": "[encoded data removed]",
      "text/plain": [
       "<Figure size 640x480 with 1 Axes>"
      ]
     },
     "metadata": {},
     "output_type": "display_data"
    }
   ],
   "source": [
    "# Probability scores for positive class\n",
    "fpr, tpr, thresholds = roc_curve(y_test, lrclassifier.predict_proba(X_test)[:,1])\n",
    "# Calculates area under the curve and plot\n",
    "roc_auc = auc(fpr, tpr)\n",
    "plt.plot(fpr, tpr, label=f'ROC curve (area = {roc_auc:.2f})')\n",
    "# Add reference Line and plot\n",
    "plt.plot([0, 1], [0, 1], linestyle='--')\n",
    "plt.xlabel('False Positive Rate')\n",
    "plt.ylabel('True Positive Rate')\n",
    "plt.title('Logistic Regression ROC Curve')\n",
    "plt.legend(loc=\"lower right\")\n",
    "plt.show()"
   ]
  },
  {
   "cell_type": "markdown",
   "id": "c64bd56a",
   "metadata": {},
   "source": [
    "# References"
   ]
  },
  {
   "cell_type": "markdown",
   "id": "2b355a4d",
   "metadata": {},
   "source": [
    "Ray, S. (2023) Naive Bayes classifier explained: Applications and practice problems of naive Bayes classifier, Analytics Vidhya. Available at: https://www.analyticsvidhya.com/blog/2017/09/naive-bayes-explained/ (Accessed: 12 December 2023). "
   ]
  },
  {
   "cell_type": "markdown",
   "id": "ac96c7cc",
   "metadata": {},
   "source": [
    "VanderPlas, J. (no date) In depth: Naive Bayes classification, In Depth: Naive Bayes Classification | Python Data Science Handbook. Available at: https://jakevdp.github.io/PythonDataScienceHandbook/05.05-naive-bayes.html (Accessed: 12 December 2023). "
   ]
  },
  {
   "cell_type": "markdown",
   "id": "5b94ce13",
   "metadata": {},
   "source": [
    "Math and equations. Available at: https://jupyterbook.org/en/stable/content/math.html (Accessed: 15 December 2023). "
   ]
  },
  {
   "cell_type": "markdown",
   "id": "df2237c2",
   "metadata": {},
   "source": [
    "Week 11: Model Building and Validation LabNote (Accessed: 18 December 2023)."
   ]
  },
  {
   "cell_type": "markdown",
   "id": "30bc84a5",
   "metadata": {},
   "source": [
    "How to plot ROC curve in python (1960) Stack Overflow. Available at: https://stackoverflow.com/questions/25009284/how-to-plot-roc-curve-in-python (Accessed: 19 December 2023). "
   ]
  },
  {
   "cell_type": "markdown",
   "id": "88e2a51f",
   "metadata": {},
   "source": [
    "Filho, M. (2023) How to get feature importance in logistic regression, Forecastegy (Alt + H). Available at: https://forecastegy.com/posts/feature-importance-in-logistic-regression/ (Accessed: 20 December 2023). "
   ]
  }
 ],
 "metadata": {
  "kernelspec": {
   "display_name": "Python 3 (ipykernel)",
   "language": "python",
   "name": "python3"
  },
  "language_info": {
   "codemirror_mode": {
    "name": "ipython",
    "version": 3
   },
   "file_extension": ".py",
   "mimetype": "text/x-python",
   "name": "python",
   "nbconvert_exporter": "python",
   "pygments_lexer": "ipython3",
   "version": "3.10.12"
  }
 },
 "nbformat": 4,
 "nbformat_minor": 5
}
